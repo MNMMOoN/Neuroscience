{
  "nbformat": 4,
  "nbformat_minor": 0,
  "metadata": {
    "colab": {
      "provenance": [],
      "collapsed_sections": [
        "lZxu-m2-5SmK",
        "o7wBid8lGK3G",
        "UXzOrDHFGRvJ",
        "KGlrWxkIHrQS",
        "WhCHJn7QBJ5f",
        "q6BVXNyr30u6",
        "cr1XM7US36PY",
        "zXjj0OghIJXd",
        "CqXAKusTIRHs"
      ]
    },
    "kernelspec": {
      "name": "python3",
      "display_name": "Python 3"
    },
    "language_info": {
      "name": "python"
    }
  },
  "cells": [
    {
      "cell_type": "code",
      "source": [
        "print('Full name: ' + ' Mohammad Nourbakhsh Marvast')\n",
        "print('STD ID: ' + '401200482')"
      ],
      "metadata": {
        "colab": {
          "base_uri": "https://localhost:8080/"
        },
        "id": "FmWRI6Ff5MvW",
        "outputId": "4a239d67-9103-4299-e241-c6aa770c3399"
      },
      "execution_count": null,
      "outputs": [
        {
          "output_type": "stream",
          "name": "stdout",
          "text": [
            "Full name:  Mohammad Nourbakhsh Marvast\n",
            "STD ID: 401200482\n"
          ]
        }
      ]
    },
    {
      "cell_type": "markdown",
      "source": [
        "# Import Necessary Packages"
      ],
      "metadata": {
        "id": "lZxu-m2-5SmK"
      }
    },
    {
      "cell_type": "code",
      "execution_count": null,
      "metadata": {
        "id": "sKS0MOSREqa7"
      },
      "outputs": [],
      "source": [
        "import numpy as np\n",
        "import pandas as pd\n",
        "import matplotlib.pyplot as plt\n",
        "import random"
      ]
    },
    {
      "cell_type": "markdown",
      "source": [
        "# Greedy Policy:"
      ],
      "metadata": {
        "id": "o7wBid8lGK3G"
      }
    },
    {
      "cell_type": "code",
      "source": [
        "def greedy_policy(Qtable, state):\n",
        "  action = np.argmax(Qtable[state])\n",
        "  return action"
      ],
      "metadata": {
        "id": "ZAnctqdVveoK"
      },
      "execution_count": null,
      "outputs": []
    },
    {
      "cell_type": "code",
      "source": [
        "def epsilon_greedy_policy(Qtable, state, epsilon):\n",
        "  action = np.argmax(Qtable[state])\n",
        "  random_int = random.uniform(0,1)\n",
        "\n",
        "  ## action = 0: go rightward\n",
        "  ## action = 1: go up\n",
        "\n",
        "  if random_int < epsilon:\n",
        "    action = 1 - action\n",
        "\n",
        "  return action"
      ],
      "metadata": {
        "id": "jB9OGFzKv4oe"
      },
      "execution_count": null,
      "outputs": []
    },
    {
      "cell_type": "markdown",
      "source": [
        "#Transition between our $N \\times N$ grid and the state vector having lenght $N^2$:"
      ],
      "metadata": {
        "id": "UXzOrDHFGRvJ"
      }
    },
    {
      "cell_type": "code",
      "source": [
        "def state_to_coordinate(state, column):\n",
        "  #print(f'*********** {state}, {type(state)} **********')\n",
        "  i = int(state/column)\n",
        "  j = state%column\n",
        "\n",
        "  return i,j"
      ],
      "metadata": {
        "id": "a1fR0fKj0Zb6"
      },
      "execution_count": null,
      "outputs": []
    },
    {
      "cell_type": "code",
      "source": [
        "def coordinate_to_state(coordinate, column):\n",
        "  state = column * coordinate[0] + coordinate[1]\n",
        "  return state"
      ],
      "metadata": {
        "id": "dMQCcRC2_GDo"
      },
      "execution_count": null,
      "outputs": []
    },
    {
      "cell_type": "markdown",
      "source": [
        "Determining the next state according to our current state the action we want to use (going right or going up!):"
      ],
      "metadata": {
        "id": "NrJEPI21G451"
      }
    },
    {
      "cell_type": "code",
      "source": [
        "def next_state(current_state, action, row, column):\n",
        "  i, j = state_to_coordinate(current_state, column)\n",
        "  if action == 0 and j < column - 1:\n",
        "    return (current_state + 1)\n",
        "    # or\n",
        "    # return (coordinate_to_state((i,j+1), column))\n",
        "  elif action == 1 and i != 0:\n",
        "    return (coordinate_to_state((i-1,j), column))\n",
        "\n",
        "  elif (action == 0 and j == column - 1 and i != 0) or (action == 1 and j != column - 1 and i == 0):\n",
        "    return(next_state(current_state, 1-action, row, column))\n",
        "\n",
        "  else:\n",
        "    print(f'************ oppsssss + {current_state, i, j} ************')\n",
        "    return (current_state)"
      ],
      "metadata": {
        "id": "N-7VL6Ktyqd5"
      },
      "execution_count": null,
      "outputs": []
    },
    {
      "cell_type": "markdown",
      "source": [
        "How much reward we recieve in going from the current state to the next state according to the action:"
      ],
      "metadata": {
        "id": "VUzq9hSrHaAc"
      }
    },
    {
      "cell_type": "code",
      "source": [
        "def reward_in_action(rewards_matrix, current_state, action):\n",
        "  row, column = rewards_matrix.shape\n",
        "  s_next = next_state(current_state, action, row, column)\n",
        "\n",
        "  i,j = state_to_coordinate(s_next, column)\n",
        "\n",
        "  return rewards_matrix[i,j]"
      ],
      "metadata": {
        "id": "vICT2rv1DLpH"
      },
      "execution_count": null,
      "outputs": []
    },
    {
      "cell_type": "markdown",
      "source": [
        "#Updating our Q-table:\n",
        "\n",
        "Q-table: the table consisting of our states and actions"
      ],
      "metadata": {
        "id": "KGlrWxkIHrQS"
      }
    },
    {
      "cell_type": "code",
      "source": [
        "def update_Qtable(Qtable, rewards_matrix,\n",
        "                  total_episodes = 18000, learning_rate = 0.9, max_steps = 90, gamma = 1,\n",
        "                  epsilon = 1.0, max_epsilon = 1.0, min_epsilon = 0.001, decay_rate = 0.005):\n",
        "\n",
        "  ## total_episodes                # Total episodes\n",
        "  ## learning_rate                 # Learning rate\n",
        "  ## max_steps                     # Max steps per episode\n",
        "  ## gamma                         # Discounting rate\n",
        "\n",
        "  # Exploration parameters\n",
        "  ## epsilon                       # Exploration rate\n",
        "  ## max_epsilon                   # Exploration probability at start\n",
        "  ## min_epsilon                   # Minimum exploration probability\n",
        "  ## decay_rate                    # Exponential decay rate for exploration prob\n",
        "\n",
        "  ## action = 0: go rightward\n",
        "  ## action = 1: go up\n",
        "\n",
        "  # List of rewards\n",
        "  rewards = []\n",
        "\n",
        "  row, column = rewards_matrix.shape\n",
        "\n",
        "  # Until learning is stopped\n",
        "  for episode in range(total_episodes):\n",
        "      # Reset\n",
        "      current_state = column * (row -1)\n",
        "      step = 0\n",
        "      total_rewards = rewards_matrix[-1,0]\n",
        "\n",
        "      for step in range(row + column -2):\n",
        "          if current_state == column -1:\n",
        "            break\n",
        "          # Choose an action a in the current world state (s)\n",
        "          action = epsilon_greedy_policy(Qtable, current_state, epsilon)\n",
        "\n",
        "          # Take the action (a) and observe the outcome state(s') and reward (r)\n",
        "          new_state = next_state(current_state, action, row, column)\n",
        "\n",
        "          reward = reward_in_action(rewards_matrix, current_state, action)\n",
        "\n",
        "          # Update Q(s,a):= Q(s,a) + lr [R(s,a) + gamma * max Q(s',a') - Q(s,a)]\n",
        "          # qtable[new_state,:] : all the actions we can take from new state\n",
        "          Qtable[current_state, action] = Qtable[current_state, action] + learning_rate * (reward + gamma * np.max(Qtable[new_state, :]) - Qtable[current_state, action])\n",
        "\n",
        "          total_rewards += reward\n",
        "\n",
        "          # Our new state is state\n",
        "          current_state = new_state\n",
        "\n",
        "      # Reduce epsilon (because we need less and less exploration)\n",
        "      epsilon = min_epsilon + (max_epsilon - min_epsilon)*np.exp(-decay_rate*episode)\n",
        "      rewards.append(total_rewards)\n",
        "\n",
        "  #print (\"Score over time: \" +  str(sum(rewards)/total_episodes))\n",
        "  return Qtable, rewards"
      ],
      "metadata": {
        "id": "yDuUgdtQsj8u"
      },
      "execution_count": null,
      "outputs": []
    },
    {
      "cell_type": "markdown",
      "source": [
        "# Finding Optimal Route"
      ],
      "metadata": {
        "id": "WhCHJn7QBJ5f"
      }
    },
    {
      "cell_type": "markdown",
      "source": [
        "Using our Q-table to decide which way we should chose to go:"
      ],
      "metadata": {
        "id": "pwTIsQiQH9b2"
      }
    },
    {
      "cell_type": "code",
      "source": [
        "def play(rewards_matrix, Qtable):\n",
        "\n",
        "  total_reward = rewards_matrix[-1,0]\n",
        "  road = np.empty(rewards_matrix.shape)\n",
        "  road[:]= np.nan\n",
        "\n",
        "  row, column = rewards_matrix.shape\n",
        "  road[0,column-1] = rewards_matrix[0,column-1]\n",
        "  state = column * (row -1)\n",
        "  step = 0\n",
        "\n",
        "  for step in range(row + column -2):\n",
        "    i, j = state_to_coordinate(state, column)\n",
        "    road[i,j] = rewards_matrix[i,j]\n",
        "\n",
        "    # Take the action (index) that have the maximum expected future reward given that state\n",
        "    action = np.argmax(Qtable[state,:])\n",
        "\n",
        "    new_state = next_state(state, action, row, column)\n",
        "\n",
        "    reward = reward_in_action(rewards_matrix, state, action)\n",
        "\n",
        "    total_reward += reward\n",
        "\n",
        "    state = new_state\n",
        "\n",
        "\n",
        "  return road, total_reward\n"
      ],
      "metadata": {
        "id": "bBaI8oeVI_Zx"
      },
      "execution_count": null,
      "outputs": []
    },
    {
      "cell_type": "markdown",
      "source": [
        "#Plots"
      ],
      "metadata": {
        "id": "q6BVXNyr30u6"
      }
    },
    {
      "cell_type": "code",
      "source": [
        "def plot_optimal_road(grid, optimal_road, optimal_value, show_values= False, color= 'darkblue'):\n",
        "  grid = np.array(grid)\n",
        "  optimal_road = np.array(optimal_road)\n",
        "  fig, ax = plt.subplots(figsize=(12,10))\n",
        "  ax.clear()\n",
        "\n",
        "  plt.title(f'The Grid and The Optimal Route\\nTotal Reward: {optimal_value}')\n",
        "\n",
        "  # Plotting initial heatmap\n",
        "  im = ax.imshow(grid, cmap = \"Blues\")\n",
        "\n",
        "  row, column = grid.shape\n",
        "\n",
        "  ax.axis('off')\n",
        "\n",
        "  # Add the color bar\n",
        "  cbar = ax.figure.colorbar(im, ax = ax)\n",
        "  cbar.ax.set_ylabel(\"Rewards\", rotation = -90, va = \"bottom\")\n",
        "\n",
        "  # Plotting optimal road\n",
        "  non_nan_indices = np.where(np.logical_not(np.isnan(optimal_road)))\n",
        "  x = non_nan_indices[1]\n",
        "  y = non_nan_indices[0]\n",
        "\n",
        "  for i in range(len(x)):\n",
        "    ax.add_patch(plt.Rectangle((x[i] - .5, y[i] - .5), 1, 1, fill=False, edgecolor= color, lw=3))\n",
        "\n",
        "\n",
        "\n",
        "  # Loop over data dimensions and create text annotations\n",
        "  if show_values:\n",
        "    for i in range(row):\n",
        "        for j in range(column):\n",
        "            text = ax.text(j, i, grid[i, j],\n",
        "                          ha=\"center\", va=\"center\", color=\"w\")\n",
        "  plt.show()\n",
        "  return im"
      ],
      "metadata": {
        "id": "aSejahrm3xJe"
      },
      "execution_count": null,
      "outputs": []
    },
    {
      "cell_type": "code",
      "source": [
        "def plot_dynamics(rewards, epsilon= 1):\n",
        "\n",
        "  total_episodes = len(rewards)\n",
        "\n",
        "  fig, ax = plt.subplots(figsize=(12,4))\n",
        "  ax.clear()\n",
        "  ax.plot(range(total_episodes), rewards)\n",
        "\n",
        "  R = rewards[5000:]\n",
        "  r = max(R,key=R.count)\n",
        "\n",
        "  ax.axhline(y=r, color='r', linestyle=':')\n",
        "\n",
        "  #trans = transforms.blended_transform_factory(\n",
        "  #ax.get_yticklabels()[0].get_transform(), ax.transData)\n",
        "  #ax.text(0,rewards[s], \"{:.0f}\".format(rewards[s]), color=\"red\", transform=trans, ha=\"right\", va=\"center\")\n",
        "\n",
        "  plt.title('Rewards vs Num of Episodes')\n",
        "  ax.set_ylim((np.min(rewards)-50,rewards[-1]+50))\n",
        "  ax.set_xlim((-1,total_episodes+1))\n",
        "  #plt.legend()\n",
        "\n",
        "  yticks = ax.set_yticks([int(np.min(rewards)/100)*100,0, r])\n",
        "  ax.set_xlabel('number of episodes')\n",
        "  ax.set_ylabel('reward')\n",
        "\n",
        "  #ax.axis('off')\n",
        "\n",
        "  return ax"
      ],
      "metadata": {
        "id": "X0m6kLZTPV7R"
      },
      "execution_count": null,
      "outputs": []
    },
    {
      "cell_type": "code",
      "source": [
        "def plot_learning_rate(grid, total_episodes= 8000):\n",
        "  R = []\n",
        "  n=15\n",
        "  for decay_rate in np.linspace(0,.01,n):\n",
        "    _, rewards = optimal_road(grid,\n",
        "                              printt= False, xlsx= False, qtable_xlsx = False,\n",
        "                              total_episodes = total_episodes, learning_rate = 0.4,\n",
        "                              max_steps = 99, gamma = .5,\n",
        "                              epsilon = 1.0, max_epsilon = 1.0,\n",
        "                              min_epsilon = 0.01, decay_rate = decay_rate)\n",
        "\n",
        "    R.append(rewards[-1])\n",
        "\n",
        "  plt.bar(np.linspace(0,.01,n), R)"
      ],
      "metadata": {
        "id": "ys9tGw4Ig3_W"
      },
      "execution_count": null,
      "outputs": []
    },
    {
      "cell_type": "markdown",
      "source": [
        "# Optimal Route"
      ],
      "metadata": {
        "id": "cr1XM7US36PY"
      }
    },
    {
      "cell_type": "code",
      "source": [
        "def optimal_road(rewards_matrix,\n",
        "                 printt= True, xlsx= False, qtable_xlsx = False,\n",
        "                 total_episodes = 10000, learning_rate = 0.8, max_steps = 99, gamma = 0.95,\n",
        "                 epsilon = 1.0, max_epsilon = 1.0, min_epsilon = 0.01, decay_rate = 0.0005):\n",
        "\n",
        "  rewards_matrix = np.array(rewards_matrix)\n",
        "  row , column = rewards_matrix.shape\n",
        "\n",
        "  Qtable = np.zeros(shape= (row * column, 2))\n",
        "\n",
        "  Qtable, rewards = update_Qtable(Qtable, rewards_matrix,\n",
        "                                  total_episodes= total_episodes, learning_rate= learning_rate,\n",
        "                                  max_steps= max_steps, gamma= gamma,\n",
        "                                  epsilon= epsilon, max_epsilon= max_epsilon,\n",
        "                                  min_epsilon= min_epsilon, decay_rate= decay_rate)\n",
        "  if qtable_xlsx == True:\n",
        "    pd.DataFrame(Qtable, columns= None).to_excel(\"qtable.xlsx\")\n",
        "\n",
        "\n",
        "  road, max_road_reward = play(rewards_matrix, Qtable)\n",
        "  road = pd.DataFrame(road, columns= None)\n",
        "\n",
        "\n",
        "  ## Saving result:\n",
        "  if printt and xlsx:\n",
        "    road.to_excel(\"opt_road.xlsx\")\n",
        "    print(f'The maximum reward: \\n{max_road_reward}')\n",
        "    print('The optimal road is depicted in the file nemed \"opt_road.xlsx\"! ')\n",
        "  elif printt and not xlsx:\n",
        "    print(f'The maximum reward: \\n{max_road_reward}')\n",
        "\n",
        "  return road, rewards, max_road_reward"
      ],
      "metadata": {
        "id": "gmi4cZdVv6gO"
      },
      "execution_count": null,
      "outputs": []
    },
    {
      "cell_type": "markdown",
      "source": [
        "#Loading Main Data:"
      ],
      "metadata": {
        "id": "zXjj0OghIJXd"
      }
    },
    {
      "cell_type": "code",
      "source": [
        "data =  pd.read_excel('Grid.xlsx', header = None)\n",
        "grid = np.array(data)"
      ],
      "metadata": {
        "id": "97Xo4cixsA6j"
      },
      "execution_count": null,
      "outputs": []
    },
    {
      "cell_type": "code",
      "source": [
        "## You can see the optimal road in the file 'opt_road.xlsx'!\n",
        "## In case you want to see the updated Q-table, make 'qtable_xlsx' True!\n",
        "\n",
        "road, rewards, max_road_reward = optimal_road(grid,\n",
        "                                              xlsx= False, qtable_xlsx = False,\n",
        "                                              total_episodes = 8000, learning_rate = 0.8,\n",
        "                                              max_steps = 99, gamma = 0.95,\n",
        "                                              epsilon = 1.0, max_epsilon = 1.0,\n",
        "                                              min_epsilon = 0.01, decay_rate = 0.001)"
      ],
      "metadata": {
        "colab": {
          "base_uri": "https://localhost:8080/"
        },
        "id": "GVgKIs0bxDZe",
        "outputId": "67886c4b-8c91-48aa-8bc0-1a02c77a4637"
      },
      "execution_count": null,
      "outputs": [
        {
          "output_type": "stream",
          "name": "stdout",
          "text": [
            "The maximum reward: \n",
            "385\n"
          ]
        }
      ]
    },
    {
      "cell_type": "code",
      "source": [
        "plot_dynamics(rewards)"
      ],
      "metadata": {
        "colab": {
          "base_uri": "https://localhost:8080/",
          "height": 428
        },
        "id": "4bis_eoZSTia",
        "outputId": "3f9a6d07-1591-4f05-9f22-08cfa9047481"
      },
      "execution_count": null,
      "outputs": [
        {
          "output_type": "execute_result",
          "data": {
            "text/plain": [
              "<Axes: title={'center': 'Rewards vs Num of Episodes'}, xlabel='number of episodes', ylabel='reward'>"
            ]
          },
          "metadata": {},
          "execution_count": 17
        },
        {
          "output_type": "display_data",
          "data": {
            "text/plain": [
              "<Figure size 1200x400 with 1 Axes>"
            ],
            "image/png": "[encoded data removed]"
          },
          "metadata": {}
        }
      ]
    },
    {
      "cell_type": "code",
      "source": [
        "plot_optimal_road(grid, optimal_road= road, optimal_value= max_road_reward, show_values= False, color = 'darkgreen')"
      ],
      "metadata": {
        "colab": {
          "base_uri": "https://localhost:8080/",
          "height": 855
        },
        "id": "o0W42k7xO2vu",
        "outputId": "5bffa04f-a45d-475b-e5e9-ce95bf3cc2ef"
      },
      "execution_count": null,
      "outputs": [
        {
          "output_type": "display_data",
          "data": {
            "text/plain": [
              "<Figure size 1200x1000 with 2 Axes>"
            ],
            "image/png": "[encoded data removed]"
          },
          "metadata": {}
        },
        {
          "output_type": "execute_result",
          "data": {
            "text/plain": [
              "<matplotlib.image.AxesImage at 0x78aee3c37670>"
            ]
          },
          "metadata": {},
          "execution_count": 18
        }
      ]
    },
    {
      "cell_type": "markdown",
      "source": [
        "#Loading Fack Data:"
      ],
      "metadata": {
        "id": "CqXAKusTIRHs"
      }
    },
    {
      "cell_type": "code",
      "source": [
        "##fack data set\n",
        "n = 3\n",
        "m = 5\n",
        "M = np.random.normal(0, 20, size=(n, m))\n",
        "pd.DataFrame(M)"
      ],
      "metadata": {
        "colab": {
          "base_uri": "https://localhost:8080/",
          "height": 143
        },
        "id": "_pR9H7GDE3Is",
        "outputId": "a6b29d7a-cf19-4529-f26f-9de14656c94e"
      },
      "execution_count": null,
      "outputs": [
        {
          "output_type": "execute_result",
          "data": {
            "text/plain": [
              "           0         1          2          3          4\n",
              "0 -16.898860 -3.327508  -3.650572  52.936149   5.158467\n",
              "1 -16.748187  9.035939  38.529353 -19.959794 -12.762371\n",
              "2 -15.706725  8.832865  15.981168 -13.734318  11.386504"
            ],
            "text/html": [
              "\n",
              "  <div id=\"df-e4dbf33d-4ff4-4e19-8be2-ef79324436eb\" class=\"colab-df-container\">\n",
              "    <div>\n",
              "<style scoped>\n",
              "    .dataframe tbody tr th:only-of-type {\n",
              "        vertical-align: middle;\n",
              "    }\n",
              "\n",
              "    .dataframe tbody tr th {\n",
              "        vertical-align: top;\n",
              "    }\n",
              "\n",
              "    .dataframe thead th {\n",
              "        text-align: right;\n",
              "    }\n",
              "</style>\n",
              "<table border=\"1\" class=\"dataframe\">\n",
              "  <thead>\n",
              "    <tr style=\"text-align: right;\">\n",
              "      <th></th>\n",
              "      <th>0</th>\n",
              "      <th>1</th>\n",
              "      <th>2</th>\n",
              "      <th>3</th>\n",
              "      <th>4</th>\n",
              "    </tr>\n",
              "  </thead>\n",
              "  <tbody>\n",
              "    <tr>\n",
              "      <th>0</th>\n",
              "      <td>-16.898860</td>\n",
              "      <td>-3.327508</td>\n",
              "      <td>-3.650572</td>\n",
              "      <td>52.936149</td>\n",
              "      <td>5.158467</td>\n",
              "    </tr>\n",
              "    <tr>\n",
              "      <th>1</th>\n",
              "      <td>-16.748187</td>\n",
              "      <td>9.035939</td>\n",
              "      <td>38.529353</td>\n",
              "      <td>-19.959794</td>\n",
              "      <td>-12.762371</td>\n",
              "    </tr>\n",
              "    <tr>\n",
              "      <th>2</th>\n",
              "      <td>-15.706725</td>\n",
              "      <td>8.832865</td>\n",
              "      <td>15.981168</td>\n",
              "      <td>-13.734318</td>\n",
              "      <td>11.386504</td>\n",
              "    </tr>\n",
              "  </tbody>\n",
              "</table>\n",
              "</div>\n",
              "    <div class=\"colab-df-buttons\">\n",
              "\n",
              "  <div class=\"colab-df-container\">\n",
              "    <button class=\"colab-df-convert\" onclick=\"convertToInteractive('df-e4dbf33d-4ff4-4e19-8be2-ef79324436eb')\"\n",
              "            title=\"Convert this dataframe to an interactive table.\"\n",
              "            style=\"display:none;\">\n",
              "\n",
              "  <svg xmlns=\"http://www.w3.org/2000/svg\" height=\"24px\" viewBox=\"0 -960 960 960\">\n",
              "    <path d=\"M120-120v-720h720v720H120Zm60-500h600v-160H180v160Zm220 220h160v-160H400v160Zm0 220h160v-160H400v160ZM180-400h160v-160H180v160Zm440 0h160v-160H620v160ZM180-180h160v-160H180v160Zm440 0h160v-160H620v160Z\"/>\n",
              "  </svg>\n",
              "    </button>\n",
              "\n",
              "  <style>\n",
              "    .colab-df-container {\n",
              "      display:flex;\n",
              "      gap: 12px;\n",
              "    }\n",
              "\n",
              "    .colab-df-convert {\n",
              "      background-color: #E8F0FE;\n",
              "      border: none;\n",
              "      border-radius: 50%;\n",
              "      cursor: pointer;\n",
              "      display: none;\n",
              "      fill: #1967D2;\n",
              "      height: 32px;\n",
              "      padding: 0 0 0 0;\n",
              "      width: 32px;\n",
              "    }\n",
              "\n",
              "    .colab-df-convert:hover {\n",
              "      background-color: #E2EBFA;\n",
              "      box-shadow: 0px 1px 2px rgba(60, 64, 67, 0.3), 0px 1px 3px 1px rgba(60, 64, 67, 0.15);\n",
              "      fill: #174EA6;\n",
              "    }\n",
              "\n",
              "    .colab-df-buttons div {\n",
              "      margin-bottom: 4px;\n",
              "    }\n",
              "\n",
              "    [theme=dark] .colab-df-convert {\n",
              "      background-color: #3B4455;\n",
              "      fill: #D2E3FC;\n",
              "    }\n",
              "\n",
              "    [theme=dark] .colab-df-convert:hover {\n",
              "      background-color: #434B5C;\n",
              "      box-shadow: 0px 1px 3px 1px rgba(0, 0, 0, 0.15);\n",
              "      filter: drop-shadow(0px 1px 2px rgba(0, 0, 0, 0.3));\n",
              "      fill: #FFFFFF;\n",
              "    }\n",
              "  </style>\n",
              "\n",
              "    <script>\n",
              "      const buttonEl =\n",
              "        document.querySelector('#df-e4dbf33d-4ff4-4e19-8be2-ef79324436eb button.colab-df-convert');\n",
              "      buttonEl.style.display =\n",
              "        google.colab.kernel.accessAllowed ? 'block' : 'none';\n",
              "\n",
              "      async function convertToInteractive(key) {\n",
              "        const element = document.querySelector('#df-e4dbf33d-4ff4-4e19-8be2-ef79324436eb');\n",
              "        const dataTable =\n",
              "          await google.colab.kernel.invokeFunction('convertToInteractive',\n",
              "                                                    [key], {});\n",
              "        if (!dataTable) return;\n",
              "\n",
              "        const docLinkHtml = 'Like what you see? Visit the ' +\n",
              "          '<a target=\"_blank\" href=https://colab.research.google.com/notebooks/data_table.ipynb>data table notebook</a>'\n",
              "          + ' to learn more about interactive tables.';\n",
              "        element.innerHTML = '';\n",
              "        dataTable['output_type'] = 'display_data';\n",
              "        await google.colab.output.renderOutput(dataTable, element);\n",
              "        const docLink = document.createElement('div');\n",
              "        docLink.innerHTML = docLinkHtml;\n",
              "        element.appendChild(docLink);\n",
              "      }\n",
              "    </script>\n",
              "  </div>\n",
              "\n",
              "\n",
              "<div id=\"df-af856dc7-ff6a-48c8-b0f3-42561d6aa918\">\n",
              "  <button class=\"colab-df-quickchart\" onclick=\"quickchart('df-af856dc7-ff6a-48c8-b0f3-42561d6aa918')\"\n",
              "            title=\"Suggest charts\"\n",
              "            style=\"display:none;\">\n",
              "\n",
              "<svg xmlns=\"http://www.w3.org/2000/svg\" height=\"24px\"viewBox=\"0 0 24 24\"\n",
              "     width=\"24px\">\n",
              "    <g>\n",
              "        <path d=\"M19 3H5c-1.1 0-2 .9-2 2v14c0 1.1.9 2 2 2h14c1.1 0 2-.9 2-2V5c0-1.1-.9-2-2-2zM9 17H7v-7h2v7zm4 0h-2V7h2v10zm4 0h-2v-4h2v4z\"/>\n",
              "    </g>\n",
              "</svg>\n",
              "  </button>\n",
              "\n",
              "<style>\n",
              "  .colab-df-quickchart {\n",
              "      --bg-color: #E8F0FE;\n",
              "      --fill-color: #1967D2;\n",
              "      --hover-bg-color: #E2EBFA;\n",
              "      --hover-fill-color: #174EA6;\n",
              "      --disabled-fill-color: #AAA;\n",
              "      --disabled-bg-color: #DDD;\n",
              "  }\n",
              "\n",
              "  [theme=dark] .colab-df-quickchart {\n",
              "      --bg-color: #3B4455;\n",
              "      --fill-color: #D2E3FC;\n",
              "      --hover-bg-color: #434B5C;\n",
              "      --hover-fill-color: #FFFFFF;\n",
              "      --disabled-bg-color: #3B4455;\n",
              "      --disabled-fill-color: #666;\n",
              "  }\n",
              "\n",
              "  .colab-df-quickchart {\n",
              "    background-color: var(--bg-color);\n",
              "    border: none;\n",
              "    border-radius: 50%;\n",
              "    cursor: pointer;\n",
              "    display: none;\n",
              "    fill: var(--fill-color);\n",
              "    height: 32px;\n",
              "    padding: 0;\n",
              "    width: 32px;\n",
              "  }\n",
              "\n",
              "  .colab-df-quickchart:hover {\n",
              "    background-color: var(--hover-bg-color);\n",
              "    box-shadow: 0 1px 2px rgba(60, 64, 67, 0.3), 0 1px 3px 1px rgba(60, 64, 67, 0.15);\n",
              "    fill: var(--button-hover-fill-color);\n",
              "  }\n",
              "\n",
              "  .colab-df-quickchart-complete:disabled,\n",
              "  .colab-df-quickchart-complete:disabled:hover {\n",
              "    background-color: var(--disabled-bg-color);\n",
              "    fill: var(--disabled-fill-color);\n",
              "    box-shadow: none;\n",
              "  }\n",
              "\n",
              "  .colab-df-spinner {\n",
              "    border: 2px solid var(--fill-color);\n",
              "    border-color: transparent;\n",
              "    border-bottom-color: var(--fill-color);\n",
              "    animation:\n",
              "      spin 1s steps(1) infinite;\n",
              "  }\n",
              "\n",
              "  @keyframes spin {\n",
              "    0% {\n",
              "      border-color: transparent;\n",
              "      border-bottom-color: var(--fill-color);\n",
              "      border-left-color: var(--fill-color);\n",
              "    }\n",
              "    20% {\n",
              "      border-color: transparent;\n",
              "      border-left-color: var(--fill-color);\n",
              "      border-top-color: var(--fill-color);\n",
              "    }\n",
              "    30% {\n",
              "      border-color: transparent;\n",
              "      border-left-color: var(--fill-color);\n",
              "      border-top-color: var(--fill-color);\n",
              "      border-right-color: var(--fill-color);\n",
              "    }\n",
              "    40% {\n",
              "      border-color: transparent;\n",
              "      border-right-color: var(--fill-color);\n",
              "      border-top-color: var(--fill-color);\n",
              "    }\n",
              "    60% {\n",
              "      border-color: transparent;\n",
              "      border-right-color: var(--fill-color);\n",
              "    }\n",
              "    80% {\n",
              "      border-color: transparent;\n",
              "      border-right-color: var(--fill-color);\n",
              "      border-bottom-color: var(--fill-color);\n",
              "    }\n",
              "    90% {\n",
              "      border-color: transparent;\n",
              "      border-bottom-color: var(--fill-color);\n",
              "    }\n",
              "  }\n",
              "</style>\n",
              "\n",
              "  <script>\n",
              "    async function quickchart(key) {\n",
              "      const quickchartButtonEl =\n",
              "        document.querySelector('#' + key + ' button');\n",
              "      quickchartButtonEl.disabled = true;  // To prevent multiple clicks.\n",
              "      quickchartButtonEl.classList.add('colab-df-spinner');\n",
              "      try {\n",
              "        const charts = await google.colab.kernel.invokeFunction(\n",
              "            'suggestCharts', [key], {});\n",
              "      } catch (error) {\n",
              "        console.error('Error during call to suggestCharts:', error);\n",
              "      }\n",
              "      quickchartButtonEl.classList.remove('colab-df-spinner');\n",
              "      quickchartButtonEl.classList.add('colab-df-quickchart-complete');\n",
              "    }\n",
              "    (() => {\n",
              "      let quickchartButtonEl =\n",
              "        document.querySelector('#df-af856dc7-ff6a-48c8-b0f3-42561d6aa918 button');\n",
              "      quickchartButtonEl.style.display =\n",
              "        google.colab.kernel.accessAllowed ? 'block' : 'none';\n",
              "    })();\n",
              "  </script>\n",
              "</div>\n",
              "\n",
              "    </div>\n",
              "  </div>\n"
            ]
          },
          "metadata": {},
          "execution_count": 34
        }
      ]
    },
    {
      "cell_type": "code",
      "source": [
        "fack_road, fack_rewards, max_road_reward = optimal_road(M, xlsx= False)\n",
        "fack_road"
      ],
      "metadata": {
        "colab": {
          "base_uri": "https://localhost:8080/",
          "height": 180
        },
        "id": "mGhVZ-wahy6N",
        "outputId": "4e812cbd-b7cb-4794-e68a-7325c9c5a4d8"
      },
      "execution_count": null,
      "outputs": [
        {
          "output_type": "stream",
          "name": "stdout",
          "text": [
            "The maximum reward: \n",
            "102.08070542120211\n"
          ]
        },
        {
          "output_type": "execute_result",
          "data": {
            "text/plain": [
              "           0         1          2          3         4\n",
              "0        NaN       NaN  -3.650572  52.936149  5.158467\n",
              "1        NaN       NaN  38.529353        NaN       NaN\n",
              "2 -15.706725  8.832865  15.981168        NaN       NaN"
            ],
            "text/html": [
              "\n",
              "  <div id=\"df-ad797a70-7629-4b7c-aa1f-10d897f856dc\" class=\"colab-df-container\">\n",
              "    <div>\n",
              "<style scoped>\n",
              "    .dataframe tbody tr th:only-of-type {\n",
              "        vertical-align: middle;\n",
              "    }\n",
              "\n",
              "    .dataframe tbody tr th {\n",
              "        vertical-align: top;\n",
              "    }\n",
              "\n",
              "    .dataframe thead th {\n",
              "        text-align: right;\n",
              "    }\n",
              "</style>\n",
              "<table border=\"1\" class=\"dataframe\">\n",
              "  <thead>\n",
              "    <tr style=\"text-align: right;\">\n",
              "      <th></th>\n",
              "      <th>0</th>\n",
              "      <th>1</th>\n",
              "      <th>2</th>\n",
              "      <th>3</th>\n",
              "      <th>4</th>\n",
              "    </tr>\n",
              "  </thead>\n",
              "  <tbody>\n",
              "    <tr>\n",
              "      <th>0</th>\n",
              "      <td>NaN</td>\n",
              "      <td>NaN</td>\n",
              "      <td>-3.650572</td>\n",
              "      <td>52.936149</td>\n",
              "      <td>5.158467</td>\n",
              "    </tr>\n",
              "    <tr>\n",
              "      <th>1</th>\n",
              "      <td>NaN</td>\n",
              "      <td>NaN</td>\n",
              "      <td>38.529353</td>\n",
              "      <td>NaN</td>\n",
              "      <td>NaN</td>\n",
              "    </tr>\n",
              "    <tr>\n",
              "      <th>2</th>\n",
              "      <td>-15.706725</td>\n",
              "      <td>8.832865</td>\n",
              "      <td>15.981168</td>\n",
              "      <td>NaN</td>\n",
              "      <td>NaN</td>\n",
              "    </tr>\n",
              "  </tbody>\n",
              "</table>\n",
              "</div>\n",
              "    <div class=\"colab-df-buttons\">\n",
              "\n",
              "  <div class=\"colab-df-container\">\n",
              "    <button class=\"colab-df-convert\" onclick=\"convertToInteractive('df-ad797a70-7629-4b7c-aa1f-10d897f856dc')\"\n",
              "            title=\"Convert this dataframe to an interactive table.\"\n",
              "            style=\"display:none;\">\n",
              "\n",
              "  <svg xmlns=\"http://www.w3.org/2000/svg\" height=\"24px\" viewBox=\"0 -960 960 960\">\n",
              "    <path d=\"M120-120v-720h720v720H120Zm60-500h600v-160H180v160Zm220 220h160v-160H400v160Zm0 220h160v-160H400v160ZM180-400h160v-160H180v160Zm440 0h160v-160H620v160ZM180-180h160v-160H180v160Zm440 0h160v-160H620v160Z\"/>\n",
              "  </svg>\n",
              "    </button>\n",
              "\n",
              "  <style>\n",
              "    .colab-df-container {\n",
              "      display:flex;\n",
              "      gap: 12px;\n",
              "    }\n",
              "\n",
              "    .colab-df-convert {\n",
              "      background-color: #E8F0FE;\n",
              "      border: none;\n",
              "      border-radius: 50%;\n",
              "      cursor: pointer;\n",
              "      display: none;\n",
              "      fill: #1967D2;\n",
              "      height: 32px;\n",
              "      padding: 0 0 0 0;\n",
              "      width: 32px;\n",
              "    }\n",
              "\n",
              "    .colab-df-convert:hover {\n",
              "      background-color: #E2EBFA;\n",
              "      box-shadow: 0px 1px 2px rgba(60, 64, 67, 0.3), 0px 1px 3px 1px rgba(60, 64, 67, 0.15);\n",
              "      fill: #174EA6;\n",
              "    }\n",
              "\n",
              "    .colab-df-buttons div {\n",
              "      margin-bottom: 4px;\n",
              "    }\n",
              "\n",
              "    [theme=dark] .colab-df-convert {\n",
              "      background-color: #3B4455;\n",
              "      fill: #D2E3FC;\n",
              "    }\n",
              "\n",
              "    [theme=dark] .colab-df-convert:hover {\n",
              "      background-color: #434B5C;\n",
              "      box-shadow: 0px 1px 3px 1px rgba(0, 0, 0, 0.15);\n",
              "      filter: drop-shadow(0px 1px 2px rgba(0, 0, 0, 0.3));\n",
              "      fill: #FFFFFF;\n",
              "    }\n",
              "  </style>\n",
              "\n",
              "    <script>\n",
              "      const buttonEl =\n",
              "        document.querySelector('#df-ad797a70-7629-4b7c-aa1f-10d897f856dc button.colab-df-convert');\n",
              "      buttonEl.style.display =\n",
              "        google.colab.kernel.accessAllowed ? 'block' : 'none';\n",
              "\n",
              "      async function convertToInteractive(key) {\n",
              "        const element = document.querySelector('#df-ad797a70-7629-4b7c-aa1f-10d897f856dc');\n",
              "        const dataTable =\n",
              "          await google.colab.kernel.invokeFunction('convertToInteractive',\n",
              "                                                    [key], {});\n",
              "        if (!dataTable) return;\n",
              "\n",
              "        const docLinkHtml = 'Like what you see? Visit the ' +\n",
              "          '<a target=\"_blank\" href=https://colab.research.google.com/notebooks/data_table.ipynb>data table notebook</a>'\n",
              "          + ' to learn more about interactive tables.';\n",
              "        element.innerHTML = '';\n",
              "        dataTable['output_type'] = 'display_data';\n",
              "        await google.colab.output.renderOutput(dataTable, element);\n",
              "        const docLink = document.createElement('div');\n",
              "        docLink.innerHTML = docLinkHtml;\n",
              "        element.appendChild(docLink);\n",
              "      }\n",
              "    </script>\n",
              "  </div>\n",
              "\n",
              "\n",
              "<div id=\"df-b69470eb-2a5d-4b0e-9423-7186c709b239\">\n",
              "  <button class=\"colab-df-quickchart\" onclick=\"quickchart('df-b69470eb-2a5d-4b0e-9423-7186c709b239')\"\n",
              "            title=\"Suggest charts\"\n",
              "            style=\"display:none;\">\n",
              "\n",
              "<svg xmlns=\"http://www.w3.org/2000/svg\" height=\"24px\"viewBox=\"0 0 24 24\"\n",
              "     width=\"24px\">\n",
              "    <g>\n",
              "        <path d=\"M19 3H5c-1.1 0-2 .9-2 2v14c0 1.1.9 2 2 2h14c1.1 0 2-.9 2-2V5c0-1.1-.9-2-2-2zM9 17H7v-7h2v7zm4 0h-2V7h2v10zm4 0h-2v-4h2v4z\"/>\n",
              "    </g>\n",
              "</svg>\n",
              "  </button>\n",
              "\n",
              "<style>\n",
              "  .colab-df-quickchart {\n",
              "      --bg-color: #E8F0FE;\n",
              "      --fill-color: #1967D2;\n",
              "      --hover-bg-color: #E2EBFA;\n",
              "      --hover-fill-color: #174EA6;\n",
              "      --disabled-fill-color: #AAA;\n",
              "      --disabled-bg-color: #DDD;\n",
              "  }\n",
              "\n",
              "  [theme=dark] .colab-df-quickchart {\n",
              "      --bg-color: #3B4455;\n",
              "      --fill-color: #D2E3FC;\n",
              "      --hover-bg-color: #434B5C;\n",
              "      --hover-fill-color: #FFFFFF;\n",
              "      --disabled-bg-color: #3B4455;\n",
              "      --disabled-fill-color: #666;\n",
              "  }\n",
              "\n",
              "  .colab-df-quickchart {\n",
              "    background-color: var(--bg-color);\n",
              "    border: none;\n",
              "    border-radius: 50%;\n",
              "    cursor: pointer;\n",
              "    display: none;\n",
              "    fill: var(--fill-color);\n",
              "    height: 32px;\n",
              "    padding: 0;\n",
              "    width: 32px;\n",
              "  }\n",
              "\n",
              "  .colab-df-quickchart:hover {\n",
              "    background-color: var(--hover-bg-color);\n",
              "    box-shadow: 0 1px 2px rgba(60, 64, 67, 0.3), 0 1px 3px 1px rgba(60, 64, 67, 0.15);\n",
              "    fill: var(--button-hover-fill-color);\n",
              "  }\n",
              "\n",
              "  .colab-df-quickchart-complete:disabled,\n",
              "  .colab-df-quickchart-complete:disabled:hover {\n",
              "    background-color: var(--disabled-bg-color);\n",
              "    fill: var(--disabled-fill-color);\n",
              "    box-shadow: none;\n",
              "  }\n",
              "\n",
              "  .colab-df-spinner {\n",
              "    border: 2px solid var(--fill-color);\n",
              "    border-color: transparent;\n",
              "    border-bottom-color: var(--fill-color);\n",
              "    animation:\n",
              "      spin 1s steps(1) infinite;\n",
              "  }\n",
              "\n",
              "  @keyframes spin {\n",
              "    0% {\n",
              "      border-color: transparent;\n",
              "      border-bottom-color: var(--fill-color);\n",
              "      border-left-color: var(--fill-color);\n",
              "    }\n",
              "    20% {\n",
              "      border-color: transparent;\n",
              "      border-left-color: var(--fill-color);\n",
              "      border-top-color: var(--fill-color);\n",
              "    }\n",
              "    30% {\n",
              "      border-color: transparent;\n",
              "      border-left-color: var(--fill-color);\n",
              "      border-top-color: var(--fill-color);\n",
              "      border-right-color: var(--fill-color);\n",
              "    }\n",
              "    40% {\n",
              "      border-color: transparent;\n",
              "      border-right-color: var(--fill-color);\n",
              "      border-top-color: var(--fill-color);\n",
              "    }\n",
              "    60% {\n",
              "      border-color: transparent;\n",
              "      border-right-color: var(--fill-color);\n",
              "    }\n",
              "    80% {\n",
              "      border-color: transparent;\n",
              "      border-right-color: var(--fill-color);\n",
              "      border-bottom-color: var(--fill-color);\n",
              "    }\n",
              "    90% {\n",
              "      border-color: transparent;\n",
              "      border-bottom-color: var(--fill-color);\n",
              "    }\n",
              "  }\n",
              "</style>\n",
              "\n",
              "  <script>\n",
              "    async function quickchart(key) {\n",
              "      const quickchartButtonEl =\n",
              "        document.querySelector('#' + key + ' button');\n",
              "      quickchartButtonEl.disabled = true;  // To prevent multiple clicks.\n",
              "      quickchartButtonEl.classList.add('colab-df-spinner');\n",
              "      try {\n",
              "        const charts = await google.colab.kernel.invokeFunction(\n",
              "            'suggestCharts', [key], {});\n",
              "      } catch (error) {\n",
              "        console.error('Error during call to suggestCharts:', error);\n",
              "      }\n",
              "      quickchartButtonEl.classList.remove('colab-df-spinner');\n",
              "      quickchartButtonEl.classList.add('colab-df-quickchart-complete');\n",
              "    }\n",
              "    (() => {\n",
              "      let quickchartButtonEl =\n",
              "        document.querySelector('#df-b69470eb-2a5d-4b0e-9423-7186c709b239 button');\n",
              "      quickchartButtonEl.style.display =\n",
              "        google.colab.kernel.accessAllowed ? 'block' : 'none';\n",
              "    })();\n",
              "  </script>\n",
              "</div>\n",
              "\n",
              "  <div id=\"id_9c94a33c-ccc5-4c2e-8de4-7bf14ba9572f\">\n",
              "    <style>\n",
              "      .colab-df-generate {\n",
              "        background-color: #E8F0FE;\n",
              "        border: none;\n",
              "        border-radius: 50%;\n",
              "        cursor: pointer;\n",
              "        display: none;\n",
              "        fill: #1967D2;\n",
              "        height: 32px;\n",
              "        padding: 0 0 0 0;\n",
              "        width: 32px;\n",
              "      }\n",
              "\n",
              "      .colab-df-generate:hover {\n",
              "        background-color: #E2EBFA;\n",
              "        box-shadow: 0px 1px 2px rgba(60, 64, 67, 0.3), 0px 1px 3px 1px rgba(60, 64, 67, 0.15);\n",
              "        fill: #174EA6;\n",
              "      }\n",
              "\n",
              "      [theme=dark] .colab-df-generate {\n",
              "        background-color: #3B4455;\n",
              "        fill: #D2E3FC;\n",
              "      }\n",
              "\n",
              "      [theme=dark] .colab-df-generate:hover {\n",
              "        background-color: #434B5C;\n",
              "        box-shadow: 0px 1px 3px 1px rgba(0, 0, 0, 0.15);\n",
              "        filter: drop-shadow(0px 1px 2px rgba(0, 0, 0, 0.3));\n",
              "        fill: #FFFFFF;\n",
              "      }\n",
              "    </style>\n",
              "    <button class=\"colab-df-generate\" onclick=\"generateWithVariable('fack_road')\"\n",
              "            title=\"Generate code using this dataframe.\"\n",
              "            style=\"display:none;\">\n",
              "\n",
              "  <svg xmlns=\"http://www.w3.org/2000/svg\" height=\"24px\"viewBox=\"0 0 24 24\"\n",
              "       width=\"24px\">\n",
              "    <path d=\"M7,19H8.4L18.45,9,17,7.55,7,17.6ZM5,21V16.75L18.45,3.32a2,2,0,0,1,2.83,0l1.4,1.43a1.91,1.91,0,0,1,.58,1.4,1.91,1.91,0,0,1-.58,1.4L9.25,21ZM18.45,9,17,7.55Zm-12,3A5.31,5.31,0,0,0,4.9,8.1,5.31,5.31,0,0,0,1,6.5,5.31,5.31,0,0,0,4.9,4.9,5.31,5.31,0,0,0,6.5,1,5.31,5.31,0,0,0,8.1,4.9,5.31,5.31,0,0,0,12,6.5,5.46,5.46,0,0,0,6.5,12Z\"/>\n",
              "  </svg>\n",
              "    </button>\n",
              "    <script>\n",
              "      (() => {\n",
              "      const buttonEl =\n",
              "        document.querySelector('#id_9c94a33c-ccc5-4c2e-8de4-7bf14ba9572f button.colab-df-generate');\n",
              "      buttonEl.style.display =\n",
              "        google.colab.kernel.accessAllowed ? 'block' : 'none';\n",
              "\n",
              "      buttonEl.onclick = () => {\n",
              "        google.colab.notebook.generateWithVariable('fack_road');\n",
              "      }\n",
              "      })();\n",
              "    </script>\n",
              "  </div>\n",
              "\n",
              "    </div>\n",
              "  </div>\n"
            ]
          },
          "metadata": {},
          "execution_count": 35
        }
      ]
    },
    {
      "cell_type": "code",
      "source": [
        "plot_dynamics(fack_rewards)"
      ],
      "metadata": {
        "colab": {
          "base_uri": "https://localhost:8080/",
          "height": 428
        },
        "id": "oN3n2cf3qy-3",
        "outputId": "88ad0627-6d3b-409c-d4ff-75d47608039b"
      },
      "execution_count": null,
      "outputs": [
        {
          "output_type": "execute_result",
          "data": {
            "text/plain": [
              "<Axes: title={'center': 'Rewards vs Num of Episodes'}, xlabel='number of episodes', ylabel='reward'>"
            ]
          },
          "metadata": {},
          "execution_count": 32
        },
        {
          "output_type": "display_data",
          "data": {
            "text/plain": [
              "<Figure size 1200x400 with 1 Axes>"
            ],
            "image/png": "[encoded data removed]"
          },
          "metadata": {}
        }
      ]
    },
    {
      "cell_type": "code",
      "source": [
        "plot_optimal_road(M, optimal_road= fack_road, optimal_value= max_road_reward, show_values= False, color = 'darkgreen')"
      ],
      "metadata": {
        "colab": {
          "base_uri": "https://localhost:8080/",
          "height": 825
        },
        "id": "jcoRgFEbrp8y",
        "outputId": "6c13e3f5-d144-4770-acf4-dccf1c24c6d5"
      },
      "execution_count": null,
      "outputs": [
        {
          "output_type": "display_data",
          "data": {
            "text/plain": [
              "<Figure size 1200x1000 with 2 Axes>"
            ],
            "image/png": "[encoded data removed]"
          },
          "metadata": {}
        },
        {
          "output_type": "execute_result",
          "data": {
            "text/plain": [
              "<matplotlib.image.AxesImage at 0x78aee32a1cc0>"
            ]
          },
          "metadata": {},
          "execution_count": 36
        }
      ]
    }
  ]
}